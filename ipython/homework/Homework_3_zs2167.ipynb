{
 "cells": [
  {
   "cell_type": "markdown",
   "metadata": {},
   "source": [
    "# Introduction to Data Science\n",
    "## Homework 3"
   ]
  },
  {
   "cell_type": "markdown",
   "metadata": {},
   "source": [
    "Student Name: Zixuan Shao\n",
    "\n",
    "Student Netid: zs2167\n",
    "***"
   ]
  },
  {
   "cell_type": "markdown",
   "metadata": {},
   "source": [
    "### Part 1 (5 Points)\n",
    "Assume that $X$ and $Y$ are discrete random variables. The formulas for Mutual Information, Entropy and Conditional Entropy are given by:\n",
    "\n",
    "$$\\text{Mutual Information} = \\sum_{y \\in Y} \\sum_{x \\in X} p(x, y) \\cdot log\\frac{p(x, y)}{p(x)p(y)}$$\n",
    "\n",
    "$$\\text{Entropy} = H(Y) = -\\sum_{y \\in Y} p(y) \\cdot log(p(y))$$\n",
    "\n",
    "$$\\text{Conditional Entropy} = H(Y \\mid X) = \\sum_{x \\in X} p(x) \\cdot H(Y \\mid X = x)$$\n",
    "\n",
    "Show mathematically that $\\text{Mutual Information} = \\text{Information Gain}$, where $\\text{Information Gain} = H(Y) – H(Y \\mid X)$. Give the derivation below (note, this can be done using Latek math notation, which renders nicely. See above. Feel free to do it by hand and submit an image of your proof)."
   ]
  },
  {
   "cell_type": "markdown",
   "metadata": {},
   "source": [
    "$$\\text{Information Gain} = H(Y) – H(Y \\mid X)$$\n",
    "\n",
    "$$ = -\\sum_{y \\in Y} p(y) \\cdot log(p(y)) + \\sum_{x \\in X} p(x) \\cdot \\sum_{y \\in Y} P(y \\mid x) \\cdot log(p(y \\mid x))$$\n",
    "\n",
    "$$ = -\\sum_{y \\in Y} log(p(y)) \\cdot \\sum_{x \\in X} p(x,y) + \\sum_{x \\in X} p(x) \\cdot \\sum_{y \\in Y} \\frac{p(x,y)}{p(x)} \\cdot log(\\frac{p(x,y)}{p(x)})$$\n",
    "\n",
    "$$ = -\\sum_{y \\in Y} \\sum_{x \\in X} p(x,y) \\cdot log(p(y)) + \\sum_{x \\in X} \\sum_{y \\in Y} p(x,y) \\cdot log(\\frac{p(x,y)}{p(x)})$$\n",
    "\n",
    "$$ = \\sum_{y \\in Y} \\sum_{x \\in X} p(x, y) \\cdot log\\frac{p(x, y)}{p(x)p(y)}$$\n",
    "\n",
    "$$ = \\text{Mutual Information}$$"
   ]
  },
  {
   "cell_type": "markdown",
   "metadata": {},
   "source": [
    "### Part 2 - Preparing a Training Set and Training a Decision Tree (10 Points)\n",
    "This is a hands-on task where we build a predictive model using Decision Trees discussed in class. For this part, we will be using the data in `cell2cell_data.csv`.\n",
    "\n",
    "These historical data consist of 39,859 customers: 19,901 customers that churned (i.e., left the company) and 19,958 that did not churn (see the `\"churndep\"` variable). Here are the data set's 11 possible predictor variables for churning behavior: \n",
    "\n",
    "```\n",
    "Pos.  Var. Name  Var. Description\n",
    "----- ---------- --------------------------------------------------------------\n",
    "1     revenue    Mean monthly revenue in dollars\n",
    "2     outcalls   Mean number of outbound voice calls\n",
    "3     incalls    Mean number of inbound voice calls\n",
    "4     months     Months in Service\n",
    "5     eqpdays    Number of days the customer has had his/her current equipment\n",
    "6     webcap     Handset is web capable\n",
    "7     marryyes   Married (1=Yes; 0=No)\n",
    "8     travel     Has traveled to non-US country (1=Yes; 0=No)\n",
    "9     pcown      Owns a personal computer (1=Yes; 0=No)\n",
    "10    creditcd   Possesses a credit card (1=Yes; 0=No)\n",
    "11    retcalls   Number of calls previously made to retention team\n",
    "```\n",
    "\n",
    "The 12th column, the dependent variable `\"churndep\"`, equals 1 if the customer churned, and 0 otherwise. "
   ]
  },
  {
   "cell_type": "markdown",
   "metadata": {},
   "source": [
    "1\\. Load the data and prepare it for modeling. Note that the features are already processed for you, so the only thing needed here is split the data into training and testing. Use pandas to create two data frames: train_df and test_df, where train_df has 80% of the data chosen uniformly at random without replacement (test_df should have the other 20%). Also, make sure to write your own code to do the splits. You may use any random() function in numpy but DO NOT use the data splitting functions from Sklearn."
   ]
  },
  {
   "cell_type": "code",
   "execution_count": 52,
   "metadata": {},
   "outputs": [
    {
     "data": {
      "text/plain": [
       "(39859, 12)"
      ]
     },
     "execution_count": 52,
     "metadata": {},
     "output_type": "execute_result"
    }
   ],
   "source": [
    "import pandas as pd\n",
    "import numpy as np\n",
    "col = [\"revenue\", \"outcalls\", \"incalls\", \"months\", \"eqpdays\", \"webcap\", \"marryyes\", \"travel\", \"pcown\", \"creditcd\", \"retcalls\", \"churndep\"]\n",
    "data = pd.read_csv(\"./cell2cell_data.csv\", header = None, names = col)\n",
    "data.shape"
   ]
  },
  {
   "cell_type": "code",
   "execution_count": 53,
   "metadata": {},
   "outputs": [],
   "source": [
    "# split the data\n",
    "split_per = 0.8\n",
    "# draw n samples from uniform distribution and construct a filter\n",
    "filt = np.random.rand(data.shape[0]) < split_per\n",
    "# draw train and test data\n",
    "train_df = data[filt]\n",
    "test_df = data[filt == False]"
   ]
  },
  {
   "cell_type": "markdown",
   "metadata": {},
   "source": [
    "2\\. If we had to, how would we prove to ourselves or a colleague that our data was indeed randomly sampled on X? And by prove, I mean empirically, not just showing this person our code. Don't actually do the work, just describe in your own words a test you could here. Hint: think about this in terms of selection bias and use notes from our 2nd lecture."
   ]
  },
  {
   "cell_type": "markdown",
   "metadata": {},
   "source": [
    "<p>We can validate the spliting by checking the distribution of all variables between train and test data set are roughly equal. For quantitative variable, we can compare mean and variance, and for qualitative variable, we can compare the percentage of classes.</p>"
   ]
  },
  {
   "cell_type": "markdown",
   "metadata": {},
   "source": [
    "3\\. Now build and train a decision tree classifier using `DecisionTreeClassifier()` [(manual page)](http://scikit-learn.org/stable/modules/generated/sklearn.tree.DecisionTreeClassifier.html) on train_df to predict the `\"churndep\"` target variable. Make sure to use `criterion='entropy'` when instantiating an instance of `DecisionTreeClassifier()`. For all other settings you should use all of the default options."
   ]
  },
  {
   "cell_type": "code",
   "execution_count": 54,
   "metadata": {},
   "outputs": [
    {
     "data": {
      "text/plain": [
       "DecisionTreeClassifier(criterion='entropy')"
      ]
     },
     "execution_count": 54,
     "metadata": {},
     "output_type": "execute_result"
    }
   ],
   "source": [
    "from sklearn.tree import DecisionTreeClassifier\n",
    "\n",
    "dtc = DecisionTreeClassifier(criterion='entropy')\n",
    "Y = train_df[\"churndep\"]\n",
    "X = train_df.drop(\"churndep\", 1)\n",
    "dtc.fit(X, Y)"
   ]
  },
  {
   "cell_type": "markdown",
   "metadata": {},
   "source": [
    "4\\. Using the resulting model from 2.3, show a bar plot of feature names and their feature importance (hint: check the attributes of the `DecisionTreeClassifier()` object directly in IPython or check the manual!). Make sure the bar plot is sorted by increasing feature importance values."
   ]
  },
  {
   "cell_type": "code",
   "execution_count": 55,
   "metadata": {},
   "outputs": [
    {
     "data": {
      "text/plain": [
       "<BarContainer object of 11 artists>"
      ]
     },
     "execution_count": 55,
     "metadata": {},
     "output_type": "execute_result"
    },
    {
     "data": {
      "image/png": "[encoded data removed]",
      "text/plain": [
       "<Figure size 432x288 with 1 Axes>"
      ]
     },
     "metadata": {
      "needs_background": "light"
     },
     "output_type": "display_data"
    }
   ],
   "source": [
    "import matplotlib.pyplot as plt\n",
    "%matplotlib inline\n",
    "feat_imp = list(zip(X.columns.values,dtc.feature_importances_))\n",
    "feat_imp.sort(key = lambda x: x[1])\n",
    "features, importances = zip(*feat_imp)\n",
    "plt.barh(features, importances, align = 'center')"
   ]
  },
  {
   "cell_type": "markdown",
   "metadata": {},
   "source": [
    "5\\. Is the relationship between the top 3 most important features (as measured here) negative or positive? If your marketing director asked you to explain the top 3 drivers of churn, how would you interpret the relationship between these 3 features and the churn outcome? What \"real-life\" connection can you draw between each variable and churn? Make sure to state your answer, and not just show code."
   ]
  },
  {
   "cell_type": "code",
   "execution_count": 56,
   "metadata": {},
   "outputs": [
    {
     "data": {
      "text/html": [
       "<div>\n",
       "<style scoped>\n",
       "    .dataframe tbody tr th:only-of-type {\n",
       "        vertical-align: middle;\n",
       "    }\n",
       "\n",
       "    .dataframe tbody tr th {\n",
       "        vertical-align: top;\n",
       "    }\n",
       "\n",
       "    .dataframe thead th {\n",
       "        text-align: right;\n",
       "    }\n",
       "</style>\n",
       "<table border=\"1\" class=\"dataframe\">\n",
       "  <thead>\n",
       "    <tr style=\"text-align: right;\">\n",
       "      <th></th>\n",
       "      <th>revenue</th>\n",
       "      <th>eqpdays</th>\n",
       "      <th>outcalls</th>\n",
       "      <th>churndep</th>\n",
       "    </tr>\n",
       "  </thead>\n",
       "  <tbody>\n",
       "    <tr>\n",
       "      <th>revenue</th>\n",
       "      <td>1.000000</td>\n",
       "      <td>-0.223654</td>\n",
       "      <td>0.496893</td>\n",
       "      <td>-0.017737</td>\n",
       "    </tr>\n",
       "    <tr>\n",
       "      <th>eqpdays</th>\n",
       "      <td>-0.223654</td>\n",
       "      <td>1.000000</td>\n",
       "      <td>-0.240775</td>\n",
       "      <td>0.113737</td>\n",
       "    </tr>\n",
       "    <tr>\n",
       "      <th>outcalls</th>\n",
       "      <td>0.496893</td>\n",
       "      <td>-0.240775</td>\n",
       "      <td>1.000000</td>\n",
       "      <td>-0.038277</td>\n",
       "    </tr>\n",
       "    <tr>\n",
       "      <th>churndep</th>\n",
       "      <td>-0.017737</td>\n",
       "      <td>0.113737</td>\n",
       "      <td>-0.038277</td>\n",
       "      <td>1.000000</td>\n",
       "    </tr>\n",
       "  </tbody>\n",
       "</table>\n",
       "</div>"
      ],
      "text/plain": [
       "           revenue   eqpdays  outcalls  churndep\n",
       "revenue   1.000000 -0.223654  0.496893 -0.017737\n",
       "eqpdays  -0.223654  1.000000 -0.240775  0.113737\n",
       "outcalls  0.496893 -0.240775  1.000000 -0.038277\n",
       "churndep -0.017737  0.113737 -0.038277  1.000000"
      ]
     },
     "execution_count": 56,
     "metadata": {},
     "output_type": "execute_result"
    }
   ],
   "source": [
    "train_df[[\"revenue\",\"eqpdays\",\"outcalls\",\"churndep\"]].corr()"
   ]
  },
  {
   "cell_type": "markdown",
   "metadata": {},
   "source": [
    "- We can interpret the cross relationship between top3 features and response variables by correlation matrix.\n",
    "- As we can see above, positive value indicates that two variables are positively correlated and vice visa.\n",
    "- churn is only positively correlated with number of days the consumer have the equipment, which makes sense because longer time consumers keep the product, higher probability they would churn.\n",
    "- churn is negatively correlated with revenue and outcalls. The higher revenues consumers have, less probability that they care about churning. It also explains the weak correlation as people with high revenue could still care about spending in detail, but in general two variables are negatively correlated.\n",
    "- churn is negatively correlated with outbound call because too many outbound calls may annoy existing consumers and therefore increase their tendency to churn."
   ]
  },
  {
   "cell_type": "markdown",
   "metadata": {},
   "source": [
    "6\\. Using the classifier built in 2.3, try predicting \"churndep\" on both the train_df and test_df data sets. What is the accuracy on each? What is your explanation on the difference (or lackthereof) between the two accuracies?"
   ]
  },
  {
   "cell_type": "code",
   "execution_count": 57,
   "metadata": {},
   "outputs": [],
   "source": [
    "pred_train = dtc.predict_proba(X)\n",
    "pred_test = dtc.predict_proba(test_df.drop(\"churndep\", 1))\n",
    "accur_train = dtc.score(X, Y)\n",
    "accur_test = dtc.score(test_df.drop(\"churndep\", 1), test_df[\"churndep\"])"
   ]
  },
  {
   "cell_type": "code",
   "execution_count": 59,
   "metadata": {},
   "outputs": [
    {
     "name": "stdout",
     "output_type": "stream",
     "text": [
      "[array([[0., 1.],\n",
      "       [0., 1.],\n",
      "       [0., 1.],\n",
      "       ...,\n",
      "       [1., 0.],\n",
      "       [1., 0.],\n",
      "       [1., 0.]]), array([[0., 1.],\n",
      "       [0., 1.],\n",
      "       [0., 1.],\n",
      "       ...,\n",
      "       [0., 1.],\n",
      "       [1., 0.],\n",
      "       [0., 1.]])]\n"
     ]
    }
   ],
   "source": [
    "print([pred_train, pred_test])"
   ]
  },
  {
   "cell_type": "code",
   "execution_count": 60,
   "metadata": {},
   "outputs": [
    {
     "name": "stdout",
     "output_type": "stream",
     "text": [
      "[0.9998432896633862, 0.5360241418332705]\n"
     ]
    }
   ],
   "source": [
    "print([accur_train, accur_test])"
   ]
  },
  {
   "cell_type": "markdown",
   "metadata": {},
   "source": [
    "<p> When the train accuracy is significantly higher than the test accuracy, we can conclude that the model overfitting the training data set.</p>"
   ]
  },
  {
   "cell_type": "markdown",
   "metadata": {},
   "source": [
    "### Part 3 - Finding a Good Decision Tree (10 Points)\n",
    "The default options for your decision tree may not be optimal. We need to analyze whether tuning the parameters can improve the accuracy of the classifier.  For the following options `min_samples_split` and `min_samples_leaf`:"
   ]
  },
  {
   "cell_type": "markdown",
   "metadata": {},
   "source": [
    "1\\. Generate a list of 10 values of each for the parameters mim_samples_split and min_samples_leaf. "
   ]
  },
  {
   "cell_type": "code",
   "execution_count": 109,
   "metadata": {},
   "outputs": [],
   "source": [
    "min_samples_split_values = np.random.exponential(scale = 0.02, size = 10)\n",
    "min_samples_leaf_values = np.random.exponential(scale = 0.01, size = 10)"
   ]
  },
  {
   "cell_type": "code",
   "execution_count": 110,
   "metadata": {},
   "outputs": [
    {
     "data": {
      "text/plain": [
       "array([0.00428435, 0.01142785, 0.0090217 , 0.0022155 , 0.00260825,\n",
       "       0.00291092, 0.0217475 , 0.00440443, 0.00197325, 0.0018552 ])"
      ]
     },
     "execution_count": 110,
     "metadata": {},
     "output_type": "execute_result"
    }
   ],
   "source": [
    "min_samples_leaf_values"
   ]
  },
  {
   "cell_type": "code",
   "execution_count": 114,
   "metadata": {},
   "outputs": [
    {
     "data": {
      "text/plain": [
       "array([0.01030114, 0.00129383, 0.01861483, 0.02355537, 0.04100291,\n",
       "       0.00810082, 0.11565921, 0.02025822, 0.02978272, 0.02404959])"
      ]
     },
     "execution_count": 114,
     "metadata": {},
     "output_type": "execute_result"
    }
   ],
   "source": [
    "min_samples_split_values"
   ]
  },
  {
   "cell_type": "markdown",
   "metadata": {},
   "source": [
    "2\\. Explain in words your reasoning for choosing the above ranges."
   ]
  },
  {
   "cell_type": "markdown",
   "metadata": {},
   "source": [
    "Based on previous overfitting model, default value for minimum split and leaf values of 2 and 1 should be the lower bound of hyperparameter. We know that importance of hyperparameter is not uniformly distribution, but skewed towards their default. Therefore, I decide to use random search from an exponential distribution with a suitable expected value, as higher value of min split and leaf values are very likely to underfit. I draw minimum leaf values at lower value because leaf node can tolerate fewer samples than inner node. Considering the large size of data, use integer value minimum number may not be suitable, instead I decide to use fraction of the sample size. Furthermore, I can do some simple empirical test on the general performance based on the parameter of exponential distribution to well locate the basic expected value of the hyperparameter."
   ]
  },
  {
   "cell_type": "markdown",
   "metadata": {},
   "source": [
    "3\\. For each combination of values in 3.1 (there should be 100), build a new classifier and check the classifier's accuracy on the test data. Plot the test set accuracy for these options. Use the values of `min_samples_split` as the x-axis and generate a new series (line) for each of `min_samples_leaf`."
   ]
  },
  {
   "cell_type": "code",
   "execution_count": 113,
   "metadata": {},
   "outputs": [
    {
     "data": {
      "text/plain": [
       "Text(0, 0.5, 'accuracy')"
      ]
     },
     "execution_count": 113,
     "metadata": {},
     "output_type": "execute_result"
    },
    {
     "data": {
      "image/png": "[encoded data removed]",
      "text/plain": [
       "<Figure size 720x504 with 1 Axes>"
      ]
     },
     "metadata": {
      "needs_background": "light"
     },
     "output_type": "display_data"
    }
   ],
   "source": [
    "import matplotlib.pyplot as plt\n",
    "%matplotlib inline\n",
    "plt.figure(figsize = (10,7))\n",
    "for lf in min_samples_leaf_values:\n",
    "    accuracy = np.zeros(10)\n",
    "    for i in range(10):\n",
    "        accuracy[i] = DecisionTreeClassifier(criterion='entropy', \n",
    "                                          min_samples_split = min_samples_split_values[i], \n",
    "                                        min_samples_leaf = lf).fit(X,Y).score(test_df.drop(\"churndep\", 1), test_df[\"churndep\"])\n",
    "    plt.plot(min_samples_split_values, accuracy, label = \"leaf value {}\".format(lf), marker = \"o\", linestyle = 'None')\n",
    "plt.legend()    \n",
    "plt.xlabel(\"min_samples_split\")\n",
    "plt.ylabel(\"accuracy\")"
   ]
  },
  {
   "cell_type": "markdown",
   "metadata": {},
   "source": [
    "4\\. Which configuration returns the best accuracy? What is this accuracy? (Note, if you don't see much variation in the test set accuracy across values of min_samples_split or min_samples_leaf, try redoing the above steps with a different range of values), and reassess your answer in Q3.2."
   ]
  },
  {
   "cell_type": "code",
   "execution_count": 115,
   "metadata": {},
   "outputs": [
    {
     "data": {
      "text/plain": [
       "0.6036715704765497"
      ]
     },
     "execution_count": 115,
     "metadata": {},
     "output_type": "execute_result"
    }
   ],
   "source": [
    "best_min_split = 0.02978272\n",
    "best_min_leaf = 0.00440443\n",
    "best_fit_accur = DecisionTreeClassifier(criterion='entropy', min_samples_split = best_min_split, \n",
    "                                        min_samples_leaf = best_min_leaf).fit(X,Y).score(test_df.drop(\"churndep\", 1), test_df[\"churndep\"])\n",
    "best_fit_accur"
   ]
  },
  {
   "cell_type": "markdown",
   "metadata": {},
   "source": [
    "5\\. If you were working for a marketing department, how would you use your churn production model in a real business environment? Explain why churn prediction might be good for the business and how one might improve churn by using this model."
   ]
  },
  {
   "cell_type": "markdown",
   "metadata": {},
   "source": [
    "I would try to predict whether the consumer whould churn or not based on their information tested on my model and decide whether we should take some actions to prevent the customer from churning. For example, the company can select those who are likely churn and send some recent sales ads to draw their attention. Churn prediction is good because it proactively raises red flag for the company and indirectly get the feedback from customers about the product even before customers realize, greatly profecting the customer basis."
   ]
  }
 ],
 "metadata": {
  "kernelspec": {
   "display_name": "Python 3",
   "language": "python",
   "name": "python3"
  },
  "language_info": {
   "codemirror_mode": {
    "name": "ipython",
    "version": 3
   },
   "file_extension": ".py",
   "mimetype": "text/x-python",
   "name": "python",
   "nbconvert_exporter": "python",
   "pygments_lexer": "ipython3",
   "version": "3.8.3"
  }
 },
 "nbformat": 4,
 "nbformat_minor": 1
}
